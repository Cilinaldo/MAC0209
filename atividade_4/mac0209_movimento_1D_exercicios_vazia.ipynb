{
 "cells": [
  {
   "cell_type": "markdown",
   "metadata": {
    "id": "BIh1Jolrd73p"
   },
   "source": [
    "<font size=\"5\"> <a href=\"https://uspdigital.usp.br/jupiterweb/obterDisciplina?sgldis=MAC0209\"> MAC0209 - Modelagem e Simulação</a> </font>\n",
    "\n",
    "Roberto M. Cesar Jr. (IME-USP)\n",
    "\n",
    "Roberto Hirata Jr. (IME-USP)\n",
    "***\n",
    "<font size=\"5\"> Resoluções de EDOs: soluções analítica e numérica pelo método de Euler </font>\n",
    "***"
   ]
  },
  {
   "cell_type": "markdown",
   "metadata": {
    "id": "3B2NDLdpd73s"
   },
   "source": [
    "# Método de Euler para solução de EDOs"
   ]
  },
  {
   "cell_type": "markdown",
   "metadata": {
    "id": "0LRRQDPCd73t"
   },
   "source": [
    "O método de Euler é uma forma de resolver numericamente uma equação diferencial ordinária. Assume-se ser conhecidas a derivada de uma função que se quer encontrar (\"resolver\") e um valor inicial da equação a ser integrada. Por exemplo, no caso do movimento uniformemente acelerado:$$a=\\mbox{constante}, b=\\mbox{constante}$$\n",
    "\n",
    "$$v(t) = x'(t) = \\frac{dx(t)}{dt} = 2at + b$$, $$x(0)=0$$\n",
    "\n",
    "A ideia do método de Euler é substituir a derivada por uma aproximação de Taylor, desprezando-se os termos maiores que segunda ordem. Isto é:\n",
    "\n",
    "$$x'(t)\\sim \\frac{x(t+\\Delta t)-x(t)}{\\Delta t}$$\n",
    "\n",
    "Se denotarmos os valores de $x(t)$ por $x_t$, isto é, ao invés da notação de função, usarmos a notação com índices, e assumirmos que os valores de $t$ só podem ser números inteiros (portanto $\\Delta t$ é no mínimo 1, o valor $x(t+\\Delta t)$ pode ser escrito como $x_1$, para $t=0$; $x_2$, para $t=1$ e assim por diante. \n",
    "\n",
    "Desta maneira, o exemplo poderia ser escrito assim (note que já estamos assumindo $\\Delta t = 1$:\n",
    "\n",
    "$$v(t) = x'(t) = 2*a*t + b \\sim x_t - x_{t-1},$$\n",
    "\n",
    "isto é,\n",
    "\n",
    "$$ x_t = x_{t-1} + 2*a*t + b $$\n",
    "\n",
    "Como sabemos o valor inicial em $t=0$, podemos calcular $x_t$ para todo $t>0$:\n",
    "\n",
    "$$ x_1 = x_{0} + 2*a*1 + b $$\n",
    "\n",
    "$$ x_2 = x_{1} + 2*a*2 + b = 6*a + 2*b$$\n",
    "\n",
    "$$ x_3 = x_{2} + 2*a*3 + b = 6*a + 2*b + 6*a + b = 12*a + 3*b$$\n",
    "\n",
    "e assim por diante.\n",
    "\n",
    "Em verdade, $\\Delta t$ não precisa ser um número inteiro e em geral, não é. Porém, no caso de não ser um número inteiro, desacoplamos os índices do incremento pois os índices são inteiros. \n",
    "\n"
   ]
  },
  {
   "cell_type": "markdown",
   "metadata": {
    "id": "8ZUq92S9d73u"
   },
   "source": [
    "# Implementanto o método de Euler"
   ]
  },
  {
   "cell_type": "markdown",
   "metadata": {
    "id": "nXEMFyX2d73v"
   },
   "source": [
    "Da forma que a equação foi construída, isto é, $ x_t = x_{t-1} + 2*a*t + b $, é trivial implementá-la. basta que estabeleçamos os valores de $a$, $b$ e $x_0$.\n",
    "\n",
    "No entanto, para a implementação ficar organizada, crie duas funções: \n",
    "- nextXeuler(x,t,params,dt): que recebe um vetor de parâmetros iniciais, params, o tempo e a posição atual, t e x, respectivamente, e o delta de tempo, dt (note que com isso desacoplamos os índices do incremento). A função retorna a nova posição $x_t$ de acordo com o método de Euler: $ x_t = x_{t-1} + 2*a*t + b $ .\n",
    "- nextXa(t,params): que recebe um vetor de parâmetros iniciais, params, e o tempo atual. A função retorna a nova posição $x_t$ de acordo com a equação integrada analiticamente: $ x_t = a*t^2 + b*t + x_0 $.\n",
    "\n",
    "Crie uma função main que itera essas duas funções entre os tempos 0s e 2s (com um dt de 0.1s) calcula e imprime a diferença entre elas (erro) e as grafique.\n"
   ]
  },
  {
   "cell_type": "code",
   "execution_count": 62,
   "metadata": {},
   "outputs": [],
   "source": [
    "# todos os imports necessários\n",
    "import matplotlib.pyplot as pyplot\n",
    "import math"
   ]
  },
  {
   "cell_type": "code",
   "execution_count": 143,
   "metadata": {
    "id": "Y4DOZKj-d73w",
    "outputId": "73c42acd-147e-4245-9451-d1f569542c20"
   },
   "outputs": [
    {
     "name": "stdout",
     "output_type": "stream",
     "text": [
      "Erro:  0\n",
      "Erro:  0.009999999999999995\n",
      "Erro:  0.01999999999999999\n",
      "Erro:  0.02999999999999997\n",
      "Erro:  0.039999999999999925\n",
      "Erro:  0.04999999999999993\n",
      "Erro:  0.06000000000000005\n",
      "Erro:  0.07000000000000006\n",
      "Erro:  0.08000000000000007\n",
      "Erro:  0.0900000000000003\n",
      "Erro:  0.10000000000000053\n",
      "Erro:  0.11000000000000076\n",
      "Erro:  0.12000000000000055\n",
      "Erro:  0.13000000000000034\n",
      "Erro:  0.14000000000000012\n",
      "Erro:  0.1499999999999999\n",
      "Erro:  0.15999999999999925\n",
      "Erro:  0.16999999999999815\n",
      "Erro:  0.17999999999999794\n",
      "Erro:  0.18999999999999684\n"
     ]
    },
    {
     "data": {
      "image/png": "[encoded data removed]",
      "text/plain": [
       "<Figure size 432x288 with 1 Axes>"
      ]
     },
     "metadata": {
      "needs_background": "light"
     },
     "output_type": "display_data"
    }
   ],
   "source": [
    "# Implementa o exercício da integração de Euler de dx(t)/dt = 2at + b\n",
    "def nextXeuler(x,t,params,dt):\n",
    "    a = params[0]\n",
    "    b = params[1]\n",
    "    return x + 2*a*t*dt + b*dt\n",
    "   \n",
    "def nextXa(t,params):\n",
    "    a = params[0]\n",
    "    b = params[1]\n",
    "    x0 = params[2]\n",
    "    return a*(t**2) + b*t + x0\n",
    "\n",
    "def main():\n",
    "    t0 = 0\n",
    "    tf = 2\n",
    "    dt = 0.1\n",
    "    x_euler = []\n",
    "    x_analitico = []\n",
    "    tempos = []\n",
    "    params = [1, 1, 0]\n",
    "    \n",
    "    while t0 <= tf:\n",
    "        if t0 == 0:\n",
    "            x_euler.append(0)\n",
    "        else:\n",
    "            x_euler.append(nextXeuler(x_euler[-1], t0, params, dt))\n",
    "        x_analitico.append(nextXa(t0, params))\n",
    "        tempos.append(t0)\n",
    "        t0 += dt\n",
    "        \n",
    "    for i in range(len(x_euler)):\n",
    "        print(f'Erro:  {abs(x_euler[i] - x_analitico[i])}')\n",
    "    \n",
    "    \n",
    "    # imprime o mapa\n",
    "    pyplot.title(\"Posição\");\n",
    "    pyplot.plot(tempos, x_analitico, color='orange');\n",
    "    pyplot.scatter(tempos, x_euler, s=150, marker='.');\n",
    "    pyplot.show();\n",
    "\n",
    "main()"
   ]
  },
  {
   "cell_type": "markdown",
   "metadata": {
    "id": "mzxTwHdZd731"
   },
   "source": [
    "## Resolva usando o método de Euler: $\\frac{d^2x}{dt^2} = 6t$. Assuma $x(t_0) = 0$ e $v(t_0) = 0$\n",
    "\n",
    "Escreva a solução para a EDO:\n",
    "\n",
    "$ \\frac{d^2x}{dt^2} = 6t$\n",
    "\n",
    "Aplicando o raciocínio dos slides apresentados na sala:\n",
    "\n",
    "$\\frac{dv}{dt} = 6t$\n",
    "\n",
    "$\\frac{dx}{dt} = v(t)$\n"
   ]
  },
  {
   "cell_type": "code",
   "execution_count": 146,
   "metadata": {
    "id": "Pchrbkkod733"
   },
   "outputs": [
    {
     "name": "stdout",
     "output_type": "stream",
     "text": [
      "Erro 0\n",
      "Erro 0.005000000000000002\n",
      "Erro 0.016000000000000007\n",
      "Erro 0.033\n",
      "Erro 0.05600000000000001\n",
      "Erro 0.08500000000000002\n",
      "Erro 0.12000000000000008\n",
      "Erro 0.1610000000000002\n",
      "Erro 0.2080000000000003\n",
      "Erro 0.26100000000000045\n",
      "Erro 0.3200000000000006\n"
     ]
    },
    {
     "data": {
      "image/png": "[encoded data removed]",
      "text/plain": [
       "<Figure size 432x288 with 1 Axes>"
      ]
     },
     "metadata": {
      "needs_background": "light"
     },
     "output_type": "display_data"
    },
    {
     "data": {
      "image/png": "[encoded data removed]",
      "text/plain": [
       "<Figure size 432x288 with 1 Axes>"
      ]
     },
     "metadata": {
      "needs_background": "light"
     },
     "output_type": "display_data"
    }
   ],
   "source": [
    "# Implementa o exercício da integração de Euler de d2x / dt2 = 6t\n",
    "def nextXVeuler(x,t, v, dt):\n",
    "    vf = 6*t*dt + v\n",
    "    xf = x + 6*t*dt*dt + v*dt\n",
    "    return xf, vf\n",
    "\n",
    "# Resolução analítica\n",
    "def nextXVa(t):\n",
    "    vf = 3*t*t # integra a função 6t\n",
    "    xf =  t*t*t # integra a função 3t^2\n",
    "    return xf, vf\n",
    "\n",
    "def main2():\n",
    "    t0 = 0\n",
    "    tf = 1\n",
    "    dt = 0.1\n",
    "    x_euler = []\n",
    "    v_euler = []\n",
    "    x_analitico = []\n",
    "    v_analitico = []\n",
    "    tempos = []\n",
    "    \n",
    "    while t0 <= tf:\n",
    "        if t0 == 0:\n",
    "            x_euler.append(0)\n",
    "            v_euler.append(0)\n",
    "            x_analitico.append(0)\n",
    "            v_analitico.append(0)\n",
    "        else:\n",
    "            xe, ve = nextXVeuler(x_euler[-1], t0, v_euler[-1], dt)\n",
    "            x_euler.append(xe)\n",
    "            v_euler.append(ve)\n",
    "            xea, vea = nextXVa(t0)\n",
    "            x_analitico.append(xea)\n",
    "            v_analitico.append(vea)\n",
    "        tempos.append(t0)\n",
    "        t0 += dt\n",
    "        \n",
    "    for i in range(len(x_euler)):\n",
    "        print(f'Erro {abs(x_euler[i] - x_analitico[i])}')\n",
    "    \n",
    "    \n",
    "    # imprime o mapa\n",
    "    pyplot.title(\"Posição\");\n",
    "    pyplot.plot([x*10 for x in tempos], x_analitico, color='orange');\n",
    "    pyplot.scatter([x*10 for x in tempos], x_euler, s=150, marker='.');\n",
    "    pyplot.show();\n",
    "    \n",
    "    # velocidade\n",
    "    pyplot.title(\"Velocidade\");\n",
    "    pyplot.plot([x*10 for x in tempos], v_analitico, color='orange');\n",
    "    pyplot.scatter([x*10 for x in tempos], v_euler, s=150, marker='.');\n",
    "    pyplot.show();\n",
    "\n",
    "main2()"
   ]
  },
  {
   "cell_type": "markdown",
   "metadata": {
    "id": "s08TE6Gfd739"
   },
   "source": [
    "Depois de ter escrito sua solução, compare com a resolução abaixo:\n"
   ]
  },
  {
   "cell_type": "code",
   "execution_count": null,
   "metadata": {
    "code_folding": [
     0
    ],
    "id": "-D58Ca6od73-",
    "outputId": "bfa8a930-ce17-4ee4-dcb2-439df5289eef"
   },
   "outputs": [
    {
     "name": "stdout",
     "output_type": "stream",
     "text": [
      "Erro:  0\n",
      "Erro:  0.005000000000000002\n",
      "Erro:  0.016000000000000007\n",
      "Erro:  0.033\n",
      "Erro:  0.05600000000000001\n",
      "Erro:  0.08500000000000005\n",
      "Erro:  0.1200000000000001\n",
      "Erro:  0.1610000000000002\n",
      "Erro:  0.2080000000000003\n",
      "Erro:  0.26100000000000045\n",
      "Erro:  0.3200000000000006\n"
     ]
    },
    {
     "data": {
      "image/png": "[encoded data removed]",
      "text/plain": [
       "<matplotlib.figure.Figure at 0x118573860>"
      ]
     },
     "metadata": {
      "tags": []
     },
     "output_type": "display_data"
    },
    {
     "data": {
      "image/png": "[encoded data removed]",
      "text/plain": [
       "<matplotlib.figure.Figure at 0x104e6c940>"
      ]
     },
     "metadata": {
      "tags": []
     },
     "output_type": "display_data"
    }
   ],
   "source": [
    "# d2x / dt2 = 6t\n",
    "\n"
   ]
  }
 ],
 "metadata": {
  "anaconda-cloud": {},
  "colab": {
   "name": "mac0209-movimento-1D-exercicios-vazia.ipynb",
   "provenance": []
  },
  "kernelspec": {
   "display_name": "Python 3",
   "language": "python",
   "name": "python3"
  },
  "language_info": {
   "codemirror_mode": {
    "name": "ipython",
    "version": 3
   },
   "file_extension": ".py",
   "mimetype": "text/x-python",
   "name": "python",
   "nbconvert_exporter": "python",
   "pygments_lexer": "ipython3",
   "version": "3.8.5"
  },
  "toc": {
   "base_numbering": 1,
   "nav_menu": {},
   "number_sections": true,
   "sideBar": true,
   "skip_h1_title": false,
   "title_cell": "Table of Contents",
   "title_sidebar": "Contents",
   "toc_cell": false,
   "toc_position": {},
   "toc_section_display": true,
   "toc_window_display": false
  }
 },
 "nbformat": 4,
 "nbformat_minor": 1
}
